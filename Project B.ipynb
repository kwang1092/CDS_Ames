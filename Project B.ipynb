{
 "cells": [
  {
   "cell_type": "code",
   "execution_count": 1,
   "metadata": {},
   "outputs": [],
   "source": [
    "## Kevin Wang RJ Lombardi Alex Wan\n",
    "\n",
    "import numpy as np\n",
    "import pandas as pd\n",
    "import matplotlib.pyplot as plt\n",
    "import seaborn as sns\n"
   ]
  },
  {
   "cell_type": "code",
   "execution_count": 2,
   "metadata": {},
   "outputs": [],
   "source": [
    "hp = pd.read_csv(\"train.csv\")\n",
    "target=hp['SalePrice']\n",
    "features=hp[['OverallQual','GrLivArea','1stFlrSF']]"
   ]
  },
  {
   "cell_type": "code",
   "execution_count": 3,
   "metadata": {},
   "outputs": [],
   "source": [
    "hp1 = hp['YearBuilt']"
   ]
  },
  {
   "cell_type": "code",
   "execution_count": 4,
   "metadata": {},
   "outputs": [
    {
     "name": "stdout",
     "output_type": "stream",
     "text": [
      "0.515860758898\n",
      "0.529958077999\n",
      "0.517840170661\n",
      "0.50817437138\n",
      "0.503740509375\n"
     ]
    }
   ],
   "source": [
    "#Linear Regression\n",
    "from sklearn.linear_model import LinearRegression\n",
    "from sklearn.metrics import mean_squared_error, r2_score\n",
    "from sklearn.model_selection import train_test_split\n",
    "#1\n",
    "train_features, valid_features, train_target, valid_target = train_test_split(features, target,\n",
    "                                                                              test_size=0.2, random_state=10)\n",
    "\n",
    "model=LinearRegression()\n",
    "model.fit(X=train_features, y=train_target)\n",
    "predictions = model.predict(X=valid_features)\n",
    "average=np.full((len(valid_target),1),np.mean(valid_target))\n",
    "\n",
    "previous=(np.sqrt(mean_squared_error(y_true = valid_target, y_pred = average )))\n",
    "new=np.sqrt(mean_squared_error(y_true = valid_target, y_pred = predictions))\n",
    "print((previous-new)/previous)\n",
    "#2\n",
    "train_features, valid_features, train_target, valid_target = train_test_split(features, target, \n",
    "                                                                              test_size=0.2, random_state=15)\n",
    "model=LinearRegression()\n",
    "model.fit(X=train_features, y=train_target)\n",
    "predictions = model.predict(X=valid_features)\n",
    "average=np.full((len(valid_target),1),np.mean(valid_target))\n",
    "\n",
    "previous=(np.sqrt(mean_squared_error(y_true = valid_target, y_pred = average )))\n",
    "new=np.sqrt(mean_squared_error(y_true = valid_target, y_pred = predictions))\n",
    "print((previous-new)/previous)\n",
    "#3\n",
    "train_features, valid_features, train_target, valid_target = train_test_split(features, target, \n",
    "                                                                              test_size=0.2, random_state=20)\n",
    "model=LinearRegression()\n",
    "model.fit(X=train_features, y=train_target)\n",
    "predictions = model.predict(X=valid_features)\n",
    "average=np.full((len(valid_target),1),np.mean(valid_target))\n",
    "\n",
    "previous=(np.sqrt(mean_squared_error(y_true = valid_target, y_pred = average )))\n",
    "new=np.sqrt(mean_squared_error(y_true = valid_target, y_pred = predictions))\n",
    "print((previous-new)/previous)\n",
    "#4\n",
    "train_features, valid_features, train_target, valid_target = train_test_split(features, target, \n",
    "                                                                              test_size=0.2, random_state=25)\n",
    "model=LinearRegression()\n",
    "model.fit(X=train_features, y=train_target)\n",
    "predictions = model.predict(X=valid_features)\n",
    "average=np.full((len(valid_target),1),np.mean(valid_target))\n",
    "\n",
    "previous=(np.sqrt(mean_squared_error(y_true = valid_target, y_pred = average )))\n",
    "new=np.sqrt(mean_squared_error(y_true = valid_target, y_pred = predictions))\n",
    "print((previous-new)/previous)\n",
    "#5\n",
    "train_features, valid_features, train_target, valid_target = train_test_split(features, target, \n",
    "                                                                              test_size=0.2, random_state=30)\n",
    "model=LinearRegression()\n",
    "model.fit(X=train_features, y=train_target)\n",
    "predictions = model.predict(X=valid_features)\n",
    "average=np.full((len(valid_target),1),np.mean(valid_target))\n",
    "\n",
    "previous=(np.sqrt(mean_squared_error(y_true = valid_target, y_pred = average )))\n",
    "new=np.sqrt(mean_squared_error(y_true = valid_target, y_pred = predictions))\n",
    "print((previous-new)/previous)\n"
   ]
  },
  {
   "cell_type": "code",
   "execution_count": 7,
   "metadata": {},
   "outputs": [
    {
     "data": {
      "text/plain": [
       "0       True\n",
       "1       True\n",
       "2       True\n",
       "3       True\n",
       "4       True\n",
       "5       True\n",
       "6       True\n",
       "7       True\n",
       "8       True\n",
       "9       True\n",
       "10      True\n",
       "11      True\n",
       "12      True\n",
       "13      True\n",
       "14      True\n",
       "15      True\n",
       "16      True\n",
       "17      True\n",
       "18      True\n",
       "19      True\n",
       "20      True\n",
       "21      True\n",
       "22      True\n",
       "23      True\n",
       "24      True\n",
       "25      True\n",
       "26      True\n",
       "27      True\n",
       "28      True\n",
       "29      True\n",
       "        ... \n",
       "1430    True\n",
       "1431    True\n",
       "1432    True\n",
       "1433    True\n",
       "1434    True\n",
       "1435    True\n",
       "1436    True\n",
       "1437    True\n",
       "1438    True\n",
       "1439    True\n",
       "1440    True\n",
       "1441    True\n",
       "1442    True\n",
       "1443    True\n",
       "1444    True\n",
       "1445    True\n",
       "1446    True\n",
       "1447    True\n",
       "1448    True\n",
       "1449    True\n",
       "1450    True\n",
       "1451    True\n",
       "1452    True\n",
       "1453    True\n",
       "1454    True\n",
       "1455    True\n",
       "1456    True\n",
       "1457    True\n",
       "1458    True\n",
       "1459    True\n",
       "Name: YearBuilt, Length: 1460, dtype: bool"
      ]
     },
     "execution_count": 7,
     "metadata": {},
     "output_type": "execute_result"
    }
   ],
   "source": [
    "hp1 = hp1<1970\n",
    "hp1"
   ]
  },
  {
   "cell_type": "code",
   "execution_count": 9,
   "metadata": {
    "scrolled": true
   },
   "outputs": [
    {
     "data": {
      "text/plain": [
       "0       1\n",
       "1       1\n",
       "2       1\n",
       "3       1\n",
       "4       1\n",
       "5       1\n",
       "6       1\n",
       "7       1\n",
       "8       1\n",
       "9       1\n",
       "10      1\n",
       "11      1\n",
       "12      1\n",
       "13      1\n",
       "14      1\n",
       "15      1\n",
       "16      1\n",
       "17      1\n",
       "18      1\n",
       "19      1\n",
       "20      1\n",
       "21      1\n",
       "22      1\n",
       "23      1\n",
       "24      1\n",
       "25      1\n",
       "26      1\n",
       "27      1\n",
       "28      1\n",
       "29      1\n",
       "       ..\n",
       "1430    1\n",
       "1431    1\n",
       "1432    1\n",
       "1433    1\n",
       "1434    1\n",
       "1435    1\n",
       "1436    1\n",
       "1437    1\n",
       "1438    1\n",
       "1439    1\n",
       "1440    1\n",
       "1441    1\n",
       "1442    1\n",
       "1443    1\n",
       "1444    1\n",
       "1445    1\n",
       "1446    1\n",
       "1447    1\n",
       "1448    1\n",
       "1449    1\n",
       "1450    1\n",
       "1451    1\n",
       "1452    1\n",
       "1453    1\n",
       "1454    1\n",
       "1455    1\n",
       "1456    1\n",
       "1457    1\n",
       "1458    1\n",
       "1459    1\n",
       "Name: YearBuilt, Length: 1460, dtype: int32"
      ]
     },
     "execution_count": 9,
     "metadata": {},
     "output_type": "execute_result"
    }
   ],
   "source": [
    "hp1 = 1*hp1\n",
    "hp1"
   ]
  },
  {
   "cell_type": "code",
   "execution_count": 7,
   "metadata": {},
   "outputs": [],
   "source": [
    "hp1\n",
    "hp['YrBlt'] = hp1\n",
    "hp = hp[np.isfinite(hp['GarageYrBlt'])]\n",
    "#0 = after and including 1970"
   ]
  },
  {
   "cell_type": "code",
   "execution_count": 8,
   "metadata": {},
   "outputs": [
    {
     "data": {
      "text/plain": [
       "600"
      ]
     },
     "execution_count": 8,
     "metadata": {},
     "output_type": "execute_result"
    }
   ],
   "source": [
    "sum(hp['YrBlt'])"
   ]
  },
  {
   "cell_type": "code",
   "execution_count": 9,
   "metadata": {},
   "outputs": [
    {
     "data": {
      "text/plain": [
       "0.8473531544597535"
      ]
     },
     "execution_count": 9,
     "metadata": {},
     "output_type": "execute_result"
    }
   ],
   "source": [
    "779/1379*1.5"
   ]
  },
  {
   "cell_type": "code",
   "execution_count": 10,
   "metadata": {},
   "outputs": [
    {
     "name": "stdout",
     "output_type": "stream",
     "text": [
      "0.658333333333\n",
      "0.617391304348\n",
      "0.567796610169\n",
      "0.733333333333\n",
      "0.567796610169\n"
     ]
    }
   ],
   "source": [
    "#KNN\n",
    "from sklearn.metrics import mean_squared_error, r2_score\n",
    "from sklearn.model_selection import train_test_split\n",
    "from sklearn.neighbors import KNeighborsClassifier\n",
    "\n",
    "\n",
    "housedata_target=hp['YrBlt']\n",
    "housedata_features=hp[['GarageCars','OverallQual']]\n",
    "#1\n",
    "train_features, valid_features, train_target, valid_target = train_test_split(housedata_features, housedata_target,\n",
    "                                                                              test_size=0.15, random_state=20)\n",
    "knn = KNeighborsClassifier(n_neighbors=2, algorithm = 'auto')\n",
    "knn.fit(train_features, train_target )\n",
    "predictions = knn.predict(valid_features)\n",
    "\n",
    "valid_sum = sum(valid_target)\n",
    "predict_sum = sum(predictions)\n",
    "if(valid_sum > len(valid_target)/2):\n",
    "    baseline_acc = valid_sum/len(valid_target)\n",
    "else:\n",
    "    baseline_acc = (len(valid_target)-valid_sum)/len(valid_target)\n",
    "if(predict_sum > len(predictions)/2):\n",
    "    predict_acc = predict_sum/len(predictions)\n",
    "else:\n",
    "    predict_acc = (len(predictions)-predict_sum)/len(predictions)\n",
    "##average=np.full((len(valid_target),1),np.mean(valid_target))\n",
    "print((predict_acc-baseline_acc)/baseline_acc)\n",
    "##previous=(np.sqrt(mean_squared_error(y_true = valid_target, y_pred = average )))\n",
    "##new=np.sqrt(mean_squared_error(y_true = valid_target, y_pred = predictions))\n",
    "##print((previous-new)/previous)\n",
    "#2\n",
    "train_features, valid_features, train_target, valid_target = train_test_split(housedata_features, housedata_target,\n",
    "                                                                              test_size=0.15, random_state=24)\n",
    "knn = KNeighborsClassifier(n_neighbors=2, algorithm = 'auto')\n",
    "knn.fit(train_features, train_target )\n",
    "predictions = knn.predict(valid_features)\n",
    "\n",
    "valid_sum = sum(valid_target)\n",
    "predict_sum = sum(predictions)\n",
    "if(valid_sum > len(valid_target)/2):\n",
    "    baseline_acc = valid_sum/len(valid_target)\n",
    "else:\n",
    "    baseline_acc = (len(valid_target)-valid_sum)/len(valid_target)\n",
    "if(predict_sum > len(predictions)/2):\n",
    "    predict_acc = predict_sum/len(predictions)\n",
    "else:\n",
    "    predict_acc = (len(predictions)-predict_sum)/len(predictions)\n",
    "##average=np.full((len(valid_target),1),np.mean(valid_target))\n",
    "print((predict_acc-baseline_acc)/baseline_acc)\n",
    "#3\n",
    "train_features, valid_features, train_target, valid_target = train_test_split(housedata_features, housedata_target,\n",
    "                                                                              test_size=0.15, random_state=32)\n",
    "knn = KNeighborsClassifier(n_neighbors=2, algorithm = 'auto')\n",
    "knn.fit(train_features, train_target )\n",
    "predictions = knn.predict(valid_features)\n",
    "\n",
    "valid_sum = sum(valid_target)\n",
    "predict_sum = sum(predictions)\n",
    "if(valid_sum > len(valid_target)/2):\n",
    "    baseline_acc = valid_sum/len(valid_target)\n",
    "else:\n",
    "    baseline_acc = (len(valid_target)-valid_sum)/len(valid_target)\n",
    "if(predict_sum > len(predictions)/2):\n",
    "    predict_acc = predict_sum/len(predictions)\n",
    "else:\n",
    "    predict_acc = (len(predictions)-predict_sum)/len(predictions)\n",
    "##average=np.full((len(valid_target),1),np.mean(valid_target))\n",
    "print((predict_acc-baseline_acc)/baseline_acc)\n",
    "#4\n",
    "train_features, valid_features, train_target, valid_target = train_test_split(housedata_features, housedata_target,\n",
    "                                                                              test_size=0.16, random_state=30)\n",
    "knn = KNeighborsClassifier(n_neighbors=2, algorithm = 'auto')\n",
    "knn.fit(train_features, train_target )\n",
    "predictions = knn.predict(valid_features)\n",
    "\n",
    "valid_sum = sum(valid_target)\n",
    "predict_sum = sum(predictions)\n",
    "if(valid_sum > len(valid_target)/2):\n",
    "    baseline_acc = valid_sum/len(valid_target)\n",
    "else:\n",
    "    baseline_acc = (len(valid_target)-valid_sum)/len(valid_target)\n",
    "if(predict_sum > len(predictions)/2):\n",
    "    predict_acc = predict_sum/len(predictions)\n",
    "else:\n",
    "    predict_acc = (len(predictions)-predict_sum)/len(predictions)\n",
    "##average=np.full((len(valid_target),1),np.mean(valid_target))\n",
    "print((predict_acc-baseline_acc)/baseline_acc)\n",
    "\n",
    "#5\n",
    "train_features, valid_features, train_target, valid_target = train_test_split(housedata_features, housedata_target,\n",
    "                                                                              test_size=0.15, random_state=32)\n",
    "knn = KNeighborsClassifier(n_neighbors=2, algorithm = 'auto')\n",
    "knn.fit(train_features, train_target )\n",
    "predictions = knn.predict(valid_features)\n",
    "\n",
    "valid_sum = sum(valid_target)\n",
    "predict_sum = sum(predictions)\n",
    "if(valid_sum > len(valid_target)/2):\n",
    "    baseline_acc = valid_sum/len(valid_target)\n",
    "else:\n",
    "    baseline_acc = (len(valid_target)-valid_sum)/len(valid_target)\n",
    "if(predict_sum > len(predictions)/2):\n",
    "    predict_acc = predict_sum/len(predictions)\n",
    "else:\n",
    "    predict_acc = (len(predictions)-predict_sum)/len(predictions)\n",
    "##average=np.full((len(valid_target),1),np.mean(valid_target))\n",
    "print((predict_acc-baseline_acc)/baseline_acc)"
   ]
  },
  {
   "cell_type": "code",
   "execution_count": null,
   "metadata": {},
   "outputs": [],
   "source": []
  }
 ],
 "metadata": {
  "kernelspec": {
   "display_name": "Python 3",
   "language": "python",
   "name": "python3"
  },
  "language_info": {
   "codemirror_mode": {
    "name": "ipython",
    "version": 3
   },
   "file_extension": ".py",
   "mimetype": "text/x-python",
   "name": "python",
   "nbconvert_exporter": "python",
   "pygments_lexer": "ipython3",
   "version": "3.6.1"
  }
 },
 "nbformat": 4,
 "nbformat_minor": 2
}
