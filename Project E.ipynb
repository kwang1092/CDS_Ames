{
 "cells": [
  {
   "cell_type": "code",
   "execution_count": 2,
   "metadata": {},
   "outputs": [],
   "source": [
    "## Kevin Wang RJ Lombardi Alex Wan\n",
    "## Paragraphs are uploaded on CMS\n",
    "\n",
    "import numpy as np\n",
    "import pandas as pd\n",
    "import seaborn as sns\n",
    "from sklearn.cluster import AgglomerativeClustering\n",
    "from sklearn.preprocessing import StandardScaler\n",
    "from scipy.cluster.hierarchy import dendrogram, linkage\n",
    "from matplotlib import pyplot as plt\n"
   ]
  },
  {
   "cell_type": "code",
   "execution_count": 3,
   "metadata": {},
   "outputs": [],
   "source": [
    "hp = pd.read_csv(\"train.csv\")\n",
    "hp1 = pd.read_csv(\"train.csv\")"
   ]
  },
  {
   "cell_type": "code",
   "execution_count": 23,
   "metadata": {},
   "outputs": [],
   "source": [
    "pd.set_option('display.max_columns', None)\n",
    "target=hp['SalePrice']\n",
    "target = target/75000\n",
    "hp.head()\n",
    "hp.corr()\n",
    "target = target.astype(int)\n",
    "features=hp[['OverallQual','GrLivArea','1stFlrSF']]"
   ]
  },
  {
   "cell_type": "code",
   "execution_count": 229,
   "metadata": {},
   "outputs": [],
   "source": [
    "#KNN\n",
    "from sklearn.metrics import mean_squared_error, r2_score\n",
    "from sklearn.model_selection import train_test_split\n",
    "from sklearn.model_selection import KFold\n",
    "from sklearn.neighbors import KNeighborsClassifier\n",
    "from sklearn.model_selection import LeaveOneOut \n",
    "\n",
    "train_features, valid_features, train_target, valid_target = train_test_split(features, target,\n",
    "                                                                              test_size=0.2, random_state=353)\n",
    "knn = KNeighborsClassifier(n_neighbors=2, algorithm = 'auto')\n",
    "knn.fit(train_features, train_target )\n",
    "predictions = knn.predict(valid_features)\n",
    "\n",
    "kf = KFold(n_splits = 3)\n",
    "split2, split1, split3 = kf.split(train_features, train_target)\n",
    "\n"
   ]
  },
  {
   "cell_type": "code",
   "execution_count": 230,
   "metadata": {},
   "outputs": [
    {
     "name": "stdout",
     "output_type": "stream",
     "text": [
      "SVM: 0.470437017995\n",
      "0.42159383033419023\n"
     ]
    }
   ],
   "source": [
    "# SVM - uses first fold\n",
    "X_train_SVM = train_features.iloc[split1[0]]\n",
    "X_test_SVM = train_features.iloc[split1[1]]\n",
    "Y_train_SVM = train_target.iloc[split1[0]]\n",
    "Y_test_SVM = train_target.iloc[split1[1]]\n",
    "\n",
    "from sklearn import svm\n",
    "SVM = svm.SVC()\n",
    "SVM.fit(X_train_SVM, Y_train_SVM)\n",
    "SVM_pred = SVM.predict(X_test_SVM)\n",
    "\n",
    "SVM_score = (Y_test_SVM == SVM_pred).sum() / len(SVM_pred)\n",
    "a = [word[1] for word in Counter(Y_test_SVM).most_common(1)]\n",
    "baseline_acc = a[0]/len(Y_test_SVM)\n",
    "print(\"SVM: \" + str(SVM_score))\n",
    "print(baseline_acc)"
   ]
  },
  {
   "cell_type": "code",
   "execution_count": 231,
   "metadata": {},
   "outputs": [
    {
     "name": "stdout",
     "output_type": "stream",
     "text": [
      "kNN: 0.610256410256\n",
      "0.4\n"
     ]
    }
   ],
   "source": [
    "# kNN - uses second fold\n",
    "from collections import Counter\n",
    "X_train_kNN = train_features.iloc[split2[0]]\n",
    "X_test_kNN = train_features.iloc[split2[1]]\n",
    "Y_train_kNN = train_target.iloc[split2[0]]\n",
    "Y_test_kNN = train_target.iloc[split2[1]]\n",
    "\n",
    "from sklearn.neighbors import KNeighborsClassifier\n",
    "kNN = KNeighborsClassifier()\n",
    "kNN.fit(X_train_kNN, Y_train_kNN)\n",
    "kNN_pred = kNN.predict(X_test_kNN)\n",
    "\n",
    "kNN_score = (Y_test_kNN == kNN_pred).sum() / len(kNN_pred)\n",
    "a = [word[1] for word in Counter(Y_test_kNN).most_common(1)]\n",
    "baseline_acc = a[0]/len(Y_test_kNN)\n",
    "print(\"kNN: \" + str(kNN_score))\n",
    "print(baseline_acc)"
   ]
  },
  {
   "cell_type": "code",
   "execution_count": 232,
   "metadata": {},
   "outputs": [
    {
     "name": "stdout",
     "output_type": "stream",
     "text": [
      "Decision Tree: 0.622107969152\n",
      "0.3856041131105398\n"
     ]
    }
   ],
   "source": [
    "\n",
    "from sklearn.tree import DecisionTreeClassifier\n",
    "\n",
    "X_train_tree = train_features.iloc[split3[0]]\n",
    "X_test_tree = train_features.iloc[split3[1]]\n",
    "Y_train_tree = train_target.iloc[split3[0]]\n",
    "Y_test_tree = train_target.iloc[split3[1]]\n",
    "\n",
    "tree = DecisionTreeClassifier()\n",
    "tree.fit(X_train_tree, Y_train_tree)\n",
    "tree_pred = tree.predict(X_test_tree)\n",
    "\n",
    "tree_score = (Y_test_tree == tree_pred).sum() / len(tree_pred)\n",
    "a = [word[1] for word in Counter(Y_test_tree).most_common(1)]\n",
    "baseline_acc = a[0]/len(Y_test_tree)\n",
    "print(\"Decision Tree: \" + str(tree_score))\n",
    "print(baseline_acc)"
   ]
  },
  {
   "cell_type": "code",
   "execution_count": 233,
   "metadata": {},
   "outputs": [
    {
     "name": "stdout",
     "output_type": "stream",
     "text": [
      "Stacked: 0.650684931507\n"
     ]
    }
   ],
   "source": [
    "# stacking\n",
    "# combines three folds\n",
    "import numpy as np\n",
    "kNN_pred = kNN_pred.reshape(-1,1)\n",
    "SVM_pred = SVM_pred.reshape(-1,1)\n",
    "tree_pred = tree_pred.reshape(-1,1)\n",
    "pred_input = np.vstack([kNN_pred, SVM_pred, tree_pred])\n",
    "\n",
    "from sklearn.linear_model import LogisticRegression\n",
    "stacked = LogisticRegression()\n",
    "stacked.fit(pred_input, train_target)\n",
    "\n",
    "# the first layer predicts\n",
    "pred_test = pd.DataFrame({'kNN': kNN.predict(valid_features), 'SVM': SVM.predict(valid_features), 'tree': tree.predict(valid_features)})\n",
    "# the average of the predictions is calculated\n",
    "pred_test = pred_test.assign(avg=pred_test.mean(axis=1))\n",
    "stacked_pred = stacked.predict(pred_test[['avg']])\n",
    "\n",
    "stacked_score = (valid_target == stacked_pred).sum() / len(stacked_pred)\n",
    "print(\"Stacked: \" + str(stacked_score))"
   ]
  },
  {
   "cell_type": "code",
   "execution_count": null,
   "metadata": {},
   "outputs": [],
   "source": []
  },
  {
   "cell_type": "code",
   "execution_count": null,
   "metadata": {},
   "outputs": [],
   "source": []
  }
 ],
 "metadata": {
  "kernelspec": {
   "display_name": "Python 3",
   "language": "python",
   "name": "python3"
  },
  "language_info": {
   "codemirror_mode": {
    "name": "ipython",
    "version": 3
   },
   "file_extension": ".py",
   "mimetype": "text/x-python",
   "name": "python",
   "nbconvert_exporter": "python",
   "pygments_lexer": "ipython3",
   "version": "3.6.1"
  }
 },
 "nbformat": 4,
 "nbformat_minor": 2
}
